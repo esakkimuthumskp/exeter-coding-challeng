{
 "cells": [
  {
   "cell_type": "code",
   "execution_count": 4,
   "id": "d8539afe",
   "metadata": {},
   "outputs": [
    {
     "name": "stdout",
     "output_type": "stream",
     "text": [
      "\n",
      "peak memory: 131.89 MiB, increment: 13.06 MiB\n",
      "Wall time: 3.95 s\n"
     ]
    }
   ],
   "source": [
    "%%time\n",
    "%reload_ext memory_profiler\n",
    "import pandas as pd\n",
    "import os\n",
    "import pandas as pd\n",
    "import re\n",
    "from collections import Counter\n",
    "\n",
    "path=r\"E:\\TranslateWords_Challenge\"\n",
    "\n",
    "# Change the directory\n",
    "os.chdir(path)\n",
    "\n",
    "def read_files(file_path):\n",
    "    #Open file\n",
    "    with open(file_path, 'r',encoding='utf-8') as file:\n",
    "        return file.read().split('\\n')\n",
    "\n",
    "def Read_df(file_path):\n",
    "    #Read a comma-separated values (csv) file into DataFrame.\n",
    "    df=pd.read_csv(file_path,names=('English_Word','French_Word'))\n",
    "    return df\n",
    "    \n",
    "\n",
    "def Process(en,df,fw):\n",
    "    Dict={eng:fra for eng,fra in zip(df['English_Word'].to_list(),df['French_Word'].to_list())}\n",
    "    #Elements are stored as dictionary keys and their counts are stored as dictionary values.\n",
    "    fw=Counter(fw)\n",
    "    with open(r'E:\\TranslateWords_Challenge\\20230315.esakkimuthu_m.murugan.sri_ram_nallamani_yadava_college_arts_and_science\\t8.shakespeare.translated.txt','w+') as f:\n",
    "        for line in en:\n",
    "            for word in line.split():\n",
    "                word=word.lower()\n",
    "                spl_rem=re.sub('\\W+','',word)\n",
    "                if not(bool(re.search('^[a-zA-Z0-9]*$',word))==True) and spl_rem in Dict.keys():\n",
    "                    spl=''\n",
    "                    for char in word:     \n",
    "                        if char.isalpha():\n",
    "                            spl+='x'\n",
    "                        else:\n",
    "                            spl+=char\n",
    "                    f.write(spl.replace('x'*spl.count('x'),Dict[spl_rem])+\" \")    \n",
    "                    fw.update([spl_rem])\n",
    "                elif word in Dict.keys():\n",
    "                    f.write(Dict[word]+\" \")\n",
    "                    fw.update([spl_rem])\n",
    "                else:\n",
    "                    f.write(word+\" \")\n",
    "            f.write('\\n')\n",
    "        f.close()\n",
    "        print()\n",
    "        df['Frequency']=list(dict(fw).values())\n",
    "        df.to_csv(r'E:\\TranslateWords_Challenge\\20230315.esakkimuthu_m.murugan.sri_ram_nallamani_yadava_college_arts_and_science\\frequency.csv')\n",
    "\n",
    "def All_method():\n",
    "    find_word=read_files('find_words.txt')\n",
    "    en=read_files('t8.shakespeare.txt')\n",
    "    en_to_fr=read_files('french_dictionary.csv')\n",
    "    df=Read_df('french_dictionary.csv')\n",
    "    Process(en,df,find_word)\n",
    "\n",
    "%memit All_method()"
   ]
  },
  {
   "cell_type": "code",
   "execution_count": null,
   "id": "5ef04891",
   "metadata": {},
   "outputs": [],
   "source": []
  },
  {
   "cell_type": "code",
   "execution_count": null,
   "id": "950486d1",
   "metadata": {},
   "outputs": [],
   "source": []
  }
 ],
 "metadata": {
  "kernelspec": {
   "display_name": "Python 3 (ipykernel)",
   "language": "python",
   "name": "python3"
  },
  "language_info": {
   "codemirror_mode": {
    "name": "ipython",
    "version": 3
   },
   "file_extension": ".py",
   "mimetype": "text/x-python",
   "name": "python",
   "nbconvert_exporter": "python",
   "pygments_lexer": "ipython3",
   "version": "3.9.13"
  }
 },
 "nbformat": 4,
 "nbformat_minor": 5
}
